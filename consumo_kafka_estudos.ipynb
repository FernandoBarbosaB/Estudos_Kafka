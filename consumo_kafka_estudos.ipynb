{
 "cells": [
  {
   "attachments": {},
   "cell_type": "markdown",
   "metadata": {},
   "source": [
    "Iniciar zookeeper `bin/windows/zookeeper-server-start.bat config/zookeeper.properties` \n",
    "\n",
    "Iniciar Kafa `bin/windows/kafka-server-start.bat config/server.properties` "
   ]
  },
  {
   "attachments": {},
   "cell_type": "markdown",
   "metadata": {},
   "source": [
    "Doc lib Kafka    `https://kafka-python.readthedocs.io/en/master/apidoc/KafkaConsumer.html`"
   ]
  },
  {
   "attachments": {},
   "cell_type": "markdown",
   "metadata": {},
   "source": [
    "<h3>Importação das bibliotecas e Configs"
   ]
  },
  {
   "cell_type": "code",
   "execution_count": 1,
   "metadata": {},
   "outputs": [],
   "source": [
    "# importando a lib KafkaConsumer\n",
    "\n",
    "from kafka import KafkaConsumer\n",
    "import pandas as pd"
   ]
  },
  {
   "cell_type": "code",
   "execution_count": 2,
   "metadata": {},
   "outputs": [],
   "source": [
    "# Criando o consumer\n",
    "\n",
    "consumer = KafkaConsumer('estudos', bootstrap_servers=['localhost:9092'])"
   ]
  },
  {
   "cell_type": "code",
   "execution_count": 3,
   "metadata": {},
   "outputs": [
    {
     "data": {
      "text/plain": [
       "<kafka.consumer.group.KafkaConsumer at 0x1a6fc3bc9a0>"
      ]
     },
     "execution_count": 3,
     "metadata": {},
     "output_type": "execute_result"
    }
   ],
   "source": [
    "consumer"
   ]
  },
  {
   "attachments": {},
   "cell_type": "markdown",
   "metadata": {},
   "source": [
    "Consumindo os valores em Tempo Real e adicionando em uma lista"
   ]
  },
  {
   "cell_type": "code",
   "execution_count": null,
   "metadata": {},
   "outputs": [],
   "source": [
    "valores = []\n",
    "\n",
    "for i in consumer:\n",
    "    print(i.topic)\n",
    "    print(i.value)\n",
    "    valores.append(i.value)"
   ]
  },
  {
   "cell_type": "code",
   "execution_count": 6,
   "metadata": {},
   "outputs": [
    {
     "data": {
      "text/plain": [
       "list"
      ]
     },
     "execution_count": 6,
     "metadata": {},
     "output_type": "execute_result"
    }
   ],
   "source": [
    "type(valores)"
   ]
  },
  {
   "cell_type": "code",
   "execution_count": 28,
   "metadata": {},
   "outputs": [
    {
     "data": {
      "text/plain": [
       "300000"
      ]
     },
     "execution_count": 28,
     "metadata": {},
     "output_type": "execute_result"
    }
   ],
   "source": [
    "# Verificando o tamanho dos registros adicionados\n",
    "len(valores)"
   ]
  },
  {
   "cell_type": "code",
   "execution_count": 29,
   "metadata": {},
   "outputs": [],
   "source": [
    "valores_dict = {\"id_sensor\": [], \"id_equipamento\": [], \"sensor\": [], \"data_evento\": [], \"padrao\": [] }\n",
    "\n",
    "for i in valores:\n",
    "    # aux = i\n",
    "    aux = i.decode()\n",
    "    aux_d = eval(aux)\n",
    "    valores_dict[\"id_sensor\"].append(aux_d['id_sensor'])\n",
    "    valores_dict[\"id_equipamento\"].append(aux_d['id_equipamento'])\n",
    "    valores_dict[\"sensor\"].append(aux_d['sensor'])\n",
    "    valores_dict[\"data_evento\"].append(aux_d['data_evento'])\n",
    "    valores_dict[\"padrao\"].append(aux_d['padrao'])"
   ]
  },
  {
   "cell_type": "code",
   "execution_count": 30,
   "metadata": {},
   "outputs": [
    {
     "data": {
      "text/html": [
       "<div>\n",
       "<style scoped>\n",
       "    .dataframe tbody tr th:only-of-type {\n",
       "        vertical-align: middle;\n",
       "    }\n",
       "\n",
       "    .dataframe tbody tr th {\n",
       "        vertical-align: top;\n",
       "    }\n",
       "\n",
       "    .dataframe thead th {\n",
       "        text-align: right;\n",
       "    }\n",
       "</style>\n",
       "<table border=\"1\" class=\"dataframe\">\n",
       "  <thead>\n",
       "    <tr style=\"text-align: right;\">\n",
       "      <th></th>\n",
       "      <th>id_sensor</th>\n",
       "      <th>id_equipamento</th>\n",
       "      <th>sensor</th>\n",
       "      <th>data_evento</th>\n",
       "      <th>temperatura</th>\n",
       "    </tr>\n",
       "  </thead>\n",
       "  <tbody>\n",
       "    <tr>\n",
       "      <th>149179</th>\n",
       "      <td>S-ESTUDOS-032023-774CT</td>\n",
       "      <td>E-ESTUDOS-032023-774CT</td>\n",
       "      <td>sensor20</td>\n",
       "      <td>2023-03-12T11:36:36.502906Z</td>\n",
       "      <td>50.1</td>\n",
       "    </tr>\n",
       "    <tr>\n",
       "      <th>238495</th>\n",
       "      <td>S-ESTUDOS-032023-824PN</td>\n",
       "      <td>E-ESTUDOS-032023-824PN</td>\n",
       "      <td>sensor15</td>\n",
       "      <td>2023-03-12T11:36:50.413064Z</td>\n",
       "      <td>54.7</td>\n",
       "    </tr>\n",
       "    <tr>\n",
       "      <th>82404</th>\n",
       "      <td>S-ESTUDOS-032023-644JL</td>\n",
       "      <td>E-ESTUDOS-032023-644JL</td>\n",
       "      <td>sensor50</td>\n",
       "      <td>2023-03-12T11:36:17.228955Z</td>\n",
       "      <td>58.3</td>\n",
       "    </tr>\n",
       "    <tr>\n",
       "      <th>173407</th>\n",
       "      <td>S-ESTUDOS-032023-042UG</td>\n",
       "      <td>E-ESTUDOS-032023-042UG</td>\n",
       "      <td>sensor6</td>\n",
       "      <td>2023-03-12T11:36:37.728230Z</td>\n",
       "      <td>67.3</td>\n",
       "    </tr>\n",
       "    <tr>\n",
       "      <th>35376</th>\n",
       "      <td>S-ESTUDOS-032023-668CY</td>\n",
       "      <td>E-ESTUDOS-032023-668CY</td>\n",
       "      <td>sensor4</td>\n",
       "      <td>2023-03-12T11:36:15.236346Z</td>\n",
       "      <td>75.9</td>\n",
       "    </tr>\n",
       "  </tbody>\n",
       "</table>\n",
       "</div>"
      ],
      "text/plain": [
       "                     id_sensor          id_equipamento    sensor  \\\n",
       "149179  S-ESTUDOS-032023-774CT  E-ESTUDOS-032023-774CT  sensor20   \n",
       "238495  S-ESTUDOS-032023-824PN  E-ESTUDOS-032023-824PN  sensor15   \n",
       "82404   S-ESTUDOS-032023-644JL  E-ESTUDOS-032023-644JL  sensor50   \n",
       "173407  S-ESTUDOS-032023-042UG  E-ESTUDOS-032023-042UG   sensor6   \n",
       "35376   S-ESTUDOS-032023-668CY  E-ESTUDOS-032023-668CY   sensor4   \n",
       "\n",
       "                        data_evento  temperatura  \n",
       "149179  2023-03-12T11:36:36.502906Z         50.1  \n",
       "238495  2023-03-12T11:36:50.413064Z         54.7  \n",
       "82404   2023-03-12T11:36:17.228955Z         58.3  \n",
       "173407  2023-03-12T11:36:37.728230Z         67.3  \n",
       "35376   2023-03-12T11:36:15.236346Z         75.9  "
      ]
     },
     "execution_count": 30,
     "metadata": {},
     "output_type": "execute_result"
    }
   ],
   "source": [
    "df = pd.DataFrame(valores_dict)\n",
    "df2 = pd.json_normalize(df.padrao)\n",
    "df['temperatura'] = df2['leitura.temperatura']\n",
    "df = df.drop(columns='padrao')\n",
    "df.sample(5)"
   ]
  },
  {
   "cell_type": "code",
   "execution_count": 31,
   "metadata": {},
   "outputs": [
    {
     "data": {
      "text/plain": [
       "(300000, 5)"
      ]
     },
     "execution_count": 31,
     "metadata": {},
     "output_type": "execute_result"
    }
   ],
   "source": [
    "df.shape"
   ]
  },
  {
   "cell_type": "code",
   "execution_count": 32,
   "metadata": {},
   "outputs": [
    {
     "data": {
      "text/html": [
       "<div>\n",
       "<style scoped>\n",
       "    .dataframe tbody tr th:only-of-type {\n",
       "        vertical-align: middle;\n",
       "    }\n",
       "\n",
       "    .dataframe tbody tr th {\n",
       "        vertical-align: top;\n",
       "    }\n",
       "\n",
       "    .dataframe thead th {\n",
       "        text-align: right;\n",
       "    }\n",
       "</style>\n",
       "<table border=\"1\" class=\"dataframe\">\n",
       "  <thead>\n",
       "    <tr style=\"text-align: right;\">\n",
       "      <th></th>\n",
       "      <th>id_sensor</th>\n",
       "      <th>id_equipamento</th>\n",
       "      <th>sensor</th>\n",
       "      <th>data_evento</th>\n",
       "      <th>temperatura</th>\n",
       "    </tr>\n",
       "  </thead>\n",
       "  <tbody>\n",
       "    <tr>\n",
       "      <th>4</th>\n",
       "      <td>S-ESTUDOS-032023-331RS</td>\n",
       "      <td>E-ESTUDOS-032023-331RS</td>\n",
       "      <td>sensor34</td>\n",
       "      <td>2023-03-12T11:36:14.146832Z</td>\n",
       "      <td>87.2</td>\n",
       "    </tr>\n",
       "    <tr>\n",
       "      <th>17</th>\n",
       "      <td>S-ESTUDOS-032023-732WM</td>\n",
       "      <td>E-ESTUDOS-032023-732WM</td>\n",
       "      <td>sensor7</td>\n",
       "      <td>2023-03-12T11:36:14.146832Z</td>\n",
       "      <td>82.5</td>\n",
       "    </tr>\n",
       "    <tr>\n",
       "      <th>28</th>\n",
       "      <td>S-ESTUDOS-032023-112SG</td>\n",
       "      <td>E-ESTUDOS-032023-112SG</td>\n",
       "      <td>sensor11</td>\n",
       "      <td>2023-03-12T11:36:14.147831Z</td>\n",
       "      <td>77.1</td>\n",
       "    </tr>\n",
       "    <tr>\n",
       "      <th>29</th>\n",
       "      <td>S-ESTUDOS-032023-106PK</td>\n",
       "      <td>E-ESTUDOS-032023-106PK</td>\n",
       "      <td>sensor28</td>\n",
       "      <td>2023-03-12T11:36:14.147831Z</td>\n",
       "      <td>75.3</td>\n",
       "    </tr>\n",
       "    <tr>\n",
       "      <th>54</th>\n",
       "      <td>S-ESTUDOS-032023-477DH</td>\n",
       "      <td>E-ESTUDOS-032023-477DH</td>\n",
       "      <td>sensor34</td>\n",
       "      <td>2023-03-12T11:36:14.147831Z</td>\n",
       "      <td>85.8</td>\n",
       "    </tr>\n",
       "    <tr>\n",
       "      <th>...</th>\n",
       "      <td>...</td>\n",
       "      <td>...</td>\n",
       "      <td>...</td>\n",
       "      <td>...</td>\n",
       "      <td>...</td>\n",
       "    </tr>\n",
       "    <tr>\n",
       "      <th>299982</th>\n",
       "      <td>S-ESTUDOS-032023-071YE</td>\n",
       "      <td>E-ESTUDOS-032023-071YE</td>\n",
       "      <td>sensor13</td>\n",
       "      <td>2023-03-12T11:36:54.033487Z</td>\n",
       "      <td>79.5</td>\n",
       "    </tr>\n",
       "    <tr>\n",
       "      <th>299983</th>\n",
       "      <td>S-ESTUDOS-032023-673UH</td>\n",
       "      <td>E-ESTUDOS-032023-673UH</td>\n",
       "      <td>sensor11</td>\n",
       "      <td>2023-03-12T11:36:54.033487Z</td>\n",
       "      <td>76.1</td>\n",
       "    </tr>\n",
       "    <tr>\n",
       "      <th>299989</th>\n",
       "      <td>S-ESTUDOS-032023-865CR</td>\n",
       "      <td>E-ESTUDOS-032023-865CR</td>\n",
       "      <td>sensor7</td>\n",
       "      <td>2023-03-12T11:36:54.033487Z</td>\n",
       "      <td>76.9</td>\n",
       "    </tr>\n",
       "    <tr>\n",
       "      <th>299992</th>\n",
       "      <td>S-ESTUDOS-032023-467UH</td>\n",
       "      <td>E-ESTUDOS-032023-467UH</td>\n",
       "      <td>sensor7</td>\n",
       "      <td>2023-03-12T11:36:54.033487Z</td>\n",
       "      <td>81.8</td>\n",
       "    </tr>\n",
       "    <tr>\n",
       "      <th>299993</th>\n",
       "      <td>S-ESTUDOS-032023-032DD</td>\n",
       "      <td>E-ESTUDOS-032023-032DD</td>\n",
       "      <td>sensor28</td>\n",
       "      <td>2023-03-12T11:36:54.033487Z</td>\n",
       "      <td>77.3</td>\n",
       "    </tr>\n",
       "  </tbody>\n",
       "</table>\n",
       "<p>28284 rows × 5 columns</p>\n",
       "</div>"
      ],
      "text/plain": [
       "                     id_sensor          id_equipamento    sensor  \\\n",
       "4       S-ESTUDOS-032023-331RS  E-ESTUDOS-032023-331RS  sensor34   \n",
       "17      S-ESTUDOS-032023-732WM  E-ESTUDOS-032023-732WM   sensor7   \n",
       "28      S-ESTUDOS-032023-112SG  E-ESTUDOS-032023-112SG  sensor11   \n",
       "29      S-ESTUDOS-032023-106PK  E-ESTUDOS-032023-106PK  sensor28   \n",
       "54      S-ESTUDOS-032023-477DH  E-ESTUDOS-032023-477DH  sensor34   \n",
       "...                        ...                     ...       ...   \n",
       "299982  S-ESTUDOS-032023-071YE  E-ESTUDOS-032023-071YE  sensor13   \n",
       "299983  S-ESTUDOS-032023-673UH  E-ESTUDOS-032023-673UH  sensor11   \n",
       "299989  S-ESTUDOS-032023-865CR  E-ESTUDOS-032023-865CR   sensor7   \n",
       "299992  S-ESTUDOS-032023-467UH  E-ESTUDOS-032023-467UH   sensor7   \n",
       "299993  S-ESTUDOS-032023-032DD  E-ESTUDOS-032023-032DD  sensor28   \n",
       "\n",
       "                        data_evento  temperatura  \n",
       "4       2023-03-12T11:36:14.146832Z         87.2  \n",
       "17      2023-03-12T11:36:14.146832Z         82.5  \n",
       "28      2023-03-12T11:36:14.147831Z         77.1  \n",
       "29      2023-03-12T11:36:14.147831Z         75.3  \n",
       "54      2023-03-12T11:36:14.147831Z         85.8  \n",
       "...                             ...          ...  \n",
       "299982  2023-03-12T11:36:54.033487Z         79.5  \n",
       "299983  2023-03-12T11:36:54.033487Z         76.1  \n",
       "299989  2023-03-12T11:36:54.033487Z         76.9  \n",
       "299992  2023-03-12T11:36:54.033487Z         81.8  \n",
       "299993  2023-03-12T11:36:54.033487Z         77.3  \n",
       "\n",
       "[28284 rows x 5 columns]"
      ]
     },
     "execution_count": 32,
     "metadata": {},
     "output_type": "execute_result"
    }
   ],
   "source": [
    "#verificando ocorrências de sensores que apresentaram a temperatura superior a 75° C\n",
    "df.query('temperatura > 75')"
   ]
  }
 ],
 "metadata": {
  "kernelspec": {
   "display_name": "Python 3",
   "language": "python",
   "name": "python3"
  },
  "language_info": {
   "codemirror_mode": {
    "name": "ipython",
    "version": 3
   },
   "file_extension": ".py",
   "mimetype": "text/x-python",
   "name": "python",
   "nbconvert_exporter": "python",
   "pygments_lexer": "ipython3",
   "version": "3.9.13"
  },
  "orig_nbformat": 4
 },
 "nbformat": 4,
 "nbformat_minor": 2
}
